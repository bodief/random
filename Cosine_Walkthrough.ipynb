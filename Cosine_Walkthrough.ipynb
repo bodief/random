{
 "cells": [
  {
   "cell_type": "markdown",
   "metadata": {},
   "source": [
    "#                          Cosine Similarity for Data Quality "
   ]
  },
  {
   "cell_type": "markdown",
   "metadata": {},
   "source": [
    "A large majority of data scientist’ time will be allocated to activities out of actual modeling. One issue that you could spend a ton of time on is data quality. Often in large corporations, the same data can be stored in a variety of places. Some of these places are easier to access than others or some sources are much faster than others. \n",
    "\n",
    "Perhaps the data comes from an external vendor, and you've been asked to confirm the data internally is the same. Whatever the situation is, you have been asked to compare two data sources for text documents & confirm that it is the same data. Another assumption to this walkthrough is that you believe you have a 1 to 1 relationship with each respective data sources text/document identifiers. To confirm at scale, we can use cosine similarity of the respective data sources to confirm they are a match.\n",
    "\n",
    "A score of over 80 would indicate the documents are very similar / same. The documents are unlikely to be a 100% match (score of 1) due to different encoding methods of the data sources. For instances, one data source could encode the data differently and when it's decoded special characters or additional information is introduced into the text. \n",
    "\n",
    "The purpose of this notebook is to take a toy example and show how you can use machine learning for data quality in user case that you will likely face in the world of NLP.\n"
   ]
  },
  {
   "cell_type": "code",
   "execution_count": 1,
   "metadata": {},
   "outputs": [],
   "source": [
    "from sklearn.metrics.pairwise import cosine_similarity\n",
    "from sklearn.feature_extraction.text import TfidfVectorizer\n",
    "import numpy as np\n",
    "import pandas as pd"
   ]
  },
  {
   "cell_type": "markdown",
   "metadata": {},
   "source": [
    "## Example 1"
   ]
  },
  {
   "cell_type": "code",
   "execution_count": 2,
   "metadata": {},
   "outputs": [
    {
     "name": "stdout",
     "output_type": "stream",
     "text": [
      "0.8181802073667197\n"
     ]
    }
   ],
   "source": [
    "text_one = ['My name is Bodie']\n",
    "\n",
    "text_two = ['\\n\\n text_body : My name is Bodie']\n",
    "\n",
    "\n",
    "X = TfidfVectorizer().fit_transform([text_one[0],text_two[0]])\n",
    "array = X.toarray()\n",
    "value = cosine_similarity(array)\n",
    "cos = value[0][1]\n",
    "print(cos)"
   ]
  },
  {
   "cell_type": "markdown",
   "metadata": {},
   "source": [
    "In example above, the two texts are clearly the same but are stored differently. As a  result of the different storing formats, the cosine similiarty score is .81.  "
   ]
  },
  {
   "cell_type": "markdown",
   "metadata": {},
   "source": [
    "## Example 2"
   ]
  },
  {
   "cell_type": "markdown",
   "metadata": {},
   "source": [
    "In previous example, we just compared two pieces of text. Now let's compare a few more examples so we get an idea of what this looks at scale."
   ]
  },
  {
   "cell_type": "code",
   "execution_count": 3,
   "metadata": {},
   "outputs": [],
   "source": [
    "headlines = ['Life Insurance - Why Pay More?',\n",
    "'FORTUNE 500 COMPANY HIRING, AT HOME REPS.',\n",
    " 'Re: PROTECT YOUR COMPUTER AGAINST HARMFUL VIRUSES! 21198']\n",
    "\n",
    "new_headlines =['message : \\n\\n\\n\\n\\n\\ Life Insurance - Why Pay More?',\n",
    "'FORTUNE 500 COMPANY HIRING, AT HOME REPS.',\n",
    " 'My name is Bodie']\n"
   ]
  },
  {
   "cell_type": "markdown",
   "metadata": {},
   "source": [
    "Note: Headlines came from dataset from grad school. I believe original data source is kaggle?"
   ]
  },
  {
   "cell_type": "code",
   "execution_count": 4,
   "metadata": {},
   "outputs": [],
   "source": [
    "combine_list = list(zip(headlines,new_headlines))\n",
    "\n",
    "\n",
    "Cosine_Score = []\n",
    "\n",
    "for text in combine_list:\n",
    "    X = TfidfVectorizer().fit_transform([text[0],text[1]])\n",
    "    array = X.toarray()\n",
    "    value = cosine_similarity(array)\n",
    "    cos = value[0][1]\n",
    "    Cosine_Score.append(cos)"
   ]
  },
  {
   "cell_type": "markdown",
   "metadata": {},
   "source": [
    "Simple for loop and we will append the cosine scores to an empty list."
   ]
  },
  {
   "cell_type": "code",
   "execution_count": 5,
   "metadata": {},
   "outputs": [],
   "source": [
    "df= pd.DataFrame(combine_list,columns=['Original_Headline','new_headlines'])\n",
    "df['Cosine_Score'] = Cosine_Score"
   ]
  },
  {
   "cell_type": "markdown",
   "metadata": {},
   "source": [
    "Now that we got our scores, let's roll them up into a dataframe"
   ]
  },
  {
   "cell_type": "code",
   "execution_count": 6,
   "metadata": {},
   "outputs": [
    {
     "data": {
      "text/html": [
       "<div>\n",
       "<style scoped>\n",
       "    .dataframe tbody tr th:only-of-type {\n",
       "        vertical-align: middle;\n",
       "    }\n",
       "\n",
       "    .dataframe tbody tr th {\n",
       "        vertical-align: top;\n",
       "    }\n",
       "\n",
       "    .dataframe thead th {\n",
       "        text-align: right;\n",
       "    }\n",
       "</style>\n",
       "<table border=\"1\" class=\"dataframe\">\n",
       "  <thead>\n",
       "    <tr style=\"text-align: right;\">\n",
       "      <th></th>\n",
       "      <th>Original_Headline</th>\n",
       "      <th>new_headlines</th>\n",
       "      <th>Cosine_Score</th>\n",
       "    </tr>\n",
       "  </thead>\n",
       "  <tbody>\n",
       "    <tr>\n",
       "      <th>0</th>\n",
       "      <td>Life Insurance - Why Pay More?</td>\n",
       "      <td>message : \\n\\n\\n\\n\\n\\ Life Insurance - Why Pay...</td>\n",
       "      <td>0.846647</td>\n",
       "    </tr>\n",
       "    <tr>\n",
       "      <th>1</th>\n",
       "      <td>FORTUNE 500 COMPANY HIRING, AT HOME REPS.</td>\n",
       "      <td>FORTUNE 500 COMPANY HIRING, AT HOME REPS.</td>\n",
       "      <td>1.000000</td>\n",
       "    </tr>\n",
       "    <tr>\n",
       "      <th>2</th>\n",
       "      <td>Re: PROTECT YOUR COMPUTER AGAINST HARMFUL VIRU...</td>\n",
       "      <td>My name is Bodie</td>\n",
       "      <td>0.000000</td>\n",
       "    </tr>\n",
       "  </tbody>\n",
       "</table>\n",
       "</div>"
      ],
      "text/plain": [
       "                                   Original_Headline  \\\n",
       "0                     Life Insurance - Why Pay More?   \n",
       "1          FORTUNE 500 COMPANY HIRING, AT HOME REPS.   \n",
       "2  Re: PROTECT YOUR COMPUTER AGAINST HARMFUL VIRU...   \n",
       "\n",
       "                                       new_headlines  Cosine_Score  \n",
       "0  message : \\n\\n\\n\\n\\n\\ Life Insurance - Why Pay...      0.846647  \n",
       "1          FORTUNE 500 COMPANY HIRING, AT HOME REPS.      1.000000  \n",
       "2                                   My name is Bodie      0.000000  "
      ]
     },
     "execution_count": 6,
     "metadata": {},
     "output_type": "execute_result"
    }
   ],
   "source": [
    "df.head()"
   ]
  },
  {
   "cell_type": "markdown",
   "metadata": {},
   "source": [
    "###  Text one"
   ]
  },
  {
   "cell_type": "code",
   "execution_count": 7,
   "metadata": {},
   "outputs": [
    {
     "name": "stdout",
     "output_type": "stream",
     "text": [
      "Life Insurance - Why Pay More?\n",
      "----------------------\n",
      "message : \n",
      "\n",
      "\n",
      "\n",
      "\n",
      "\\ Life Insurance - Why Pay More?\n"
     ]
    }
   ],
   "source": [
    "print(headlines[0])\n",
    "print(\"----------------------\")\n",
    "print(new_headlines[0])"
   ]
  },
  {
   "cell_type": "markdown",
   "metadata": {},
   "source": [
    "We see the first raw has a cosine similiarty score of .84.  The high score indicates that these documents are likely a match. When we review the text itself, we see that  'message' is introduced into new_headlines which causes the departure from a cosine similiarty score of 1. "
   ]
  },
  {
   "cell_type": "markdown",
   "metadata": {},
   "source": [
    "### Text two"
   ]
  },
  {
   "cell_type": "code",
   "execution_count": 8,
   "metadata": {},
   "outputs": [
    {
     "name": "stdout",
     "output_type": "stream",
     "text": [
      "FORTUNE 500 COMPANY HIRING, AT HOME REPS.\n",
      "----------------------\n",
      "FORTUNE 500 COMPANY HIRING, AT HOME REPS.\n"
     ]
    }
   ],
   "source": [
    "print(headlines[1])\n",
    "print(\"----------------------\")\n",
    "print(new_headlines[1])"
   ]
  },
  {
   "cell_type": "markdown",
   "metadata": {},
   "source": [
    "The second text has a cosine similiarty score of 1. This is great, this indicates that the texts are exact matches. We can verify this by looking at both print statements.\n"
   ]
  },
  {
   "cell_type": "markdown",
   "metadata": {},
   "source": [
    "### Text Three"
   ]
  },
  {
   "cell_type": "markdown",
   "metadata": {},
   "source": [
    "Finally, we have a cosine similiarty score of  0. Score of 0 indicates  that these documents are not similiar at all. This would prompt futhur investigation into these texts. Let's print them and take a look!"
   ]
  },
  {
   "cell_type": "code",
   "execution_count": 9,
   "metadata": {},
   "outputs": [
    {
     "name": "stdout",
     "output_type": "stream",
     "text": [
      "Re: PROTECT YOUR COMPUTER AGAINST HARMFUL VIRUSES! 21198\n",
      "----------------------\n",
      "My name is Bodie\n"
     ]
    }
   ],
   "source": [
    "print(headlines[2])\n",
    "print(\"----------------------\")\n",
    "print(new_headlines[2])"
   ]
  },
  {
   "cell_type": "markdown",
   "metadata": {},
   "source": [
    "Clearly, these are two different  text. Our cosine similairty scores caught this and identified this for us. Therefore we can trust this on scale veryifing thousands of documents etc."
   ]
  },
  {
   "cell_type": "markdown",
   "metadata": {},
   "source": [
    "# Final Thoughts"
   ]
  },
  {
   "cell_type": "markdown",
   "metadata": {},
   "source": [
    "My hope is that this notebook was useful. Often I've seen other tuturials teaching cosine similiarty as a basis of NLP work. But I haven't seen it used a data quality check in any type of use case. I was excited to use machine learning in a creative way. "
   ]
  }
 ],
 "metadata": {
  "kernelspec": {
   "display_name": "Python 3",
   "language": "python",
   "name": "python3"
  },
  "language_info": {
   "codemirror_mode": {
    "name": "ipython",
    "version": 3
   },
   "file_extension": ".py",
   "mimetype": "text/x-python",
   "name": "python",
   "nbconvert_exporter": "python",
   "pygments_lexer": "ipython3",
   "version": "3.7.4"
  }
 },
 "nbformat": 4,
 "nbformat_minor": 2
}
