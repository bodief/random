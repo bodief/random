{
 "cells": [
  {
   "cell_type": "code",
   "execution_count": 20,
   "metadata": {},
   "outputs": [
    {
     "name": "stdout",
     "output_type": "stream",
     "text": [
      "Wall time: 0 ns\n"
     ]
    }
   ],
   "source": [
    "%%time\n",
    "from os import listdir, getcwd, chdir\n",
    "from os.path import isfile, join, dirname, realpath\n",
    "import pandas as pd\n",
    "import re\n",
    "from bs4 import BeautifulSoup as bs\n",
    "import nltk\n",
    "from nltk.corpus import wordnet\n",
    "from nltk import word_tokenize\n",
    "import numpy as np\n",
    "import string\n",
    "from nltk.corpus import stopwords\n",
    "import os\n",
    "import email\n",
    "from html.parser import HTMLParser\n",
    "import matplotlib.pyplot as plt\n",
    "import seaborn as sns"
   ]
  },
  {
   "cell_type": "markdown",
   "metadata": {},
   "source": [
    "Reading in the non-normarlized agg file"
   ]
  },
  {
   "cell_type": "code",
   "execution_count": 143,
   "metadata": {},
   "outputs": [
    {
     "name": "stdout",
     "output_type": "stream",
     "text": [
      "<class 'pandas.core.frame.DataFrame'>\n",
      "RangeIndex: 9353 entries, 0 to 9352\n",
      "Data columns (total 15 columns):\n",
      "Unnamed: 0            9353 non-null int64\n",
      "dir_name              9353 non-null object\n",
      "is_spam               9353 non-null int64\n",
      "from                  9351 non-null object\n",
      "domain                9310 non-null object\n",
      "domain_type           9353 non-null object\n",
      "subject               9343 non-null object\n",
      "subj_char_cnt         9353 non-null int64\n",
      "subject_all_caps      9353 non-null int64\n",
      "attachments           9353 non-null int64\n",
      "urls                  9353 non-null int64\n",
      "day_of_week           9353 non-null object\n",
      "full_text_all_caps    9353 non-null int64\n",
      "full_text_cnt         9353 non-null int64\n",
      "full_text             9353 non-null object\n",
      "dtypes: int64(8), object(7)\n",
      "memory usage: 1.1+ MB\n"
     ]
    }
   ],
   "source": [
    "df = pd.read_csv('C:/Users/bodie/Documents/emails_not_normalized.csv')\n",
    "df.info()"
   ]
  },
  {
   "cell_type": "code",
   "execution_count": 144,
   "metadata": {},
   "outputs": [
    {
     "data": {
      "image/png": "[encoded data removed]",
      "text/plain": [
       "<Figure size 432x432 with 1 Axes>"
      ]
     },
     "metadata": {},
     "output_type": "display_data"
    }
   ],
   "source": [
    "df[\"is_spam\"].value_counts().plot(kind = 'pie', \n",
    "                                  explode = [0,0.2], \n",
    "                                  figsize= (6,6),\n",
    "                                  autopct='%1.1f%%')\n",
    "plt.show()\n"
   ]
  },
  {
   "cell_type": "markdown",
   "metadata": {},
   "source": [
    "# Creating Seed and CV object"
   ]
  },
  {
   "cell_type": "code",
   "execution_count": 145,
   "metadata": {},
   "outputs": [
    {
     "name": "stdout",
     "output_type": "stream",
     "text": [
      "seed is: 293\n",
      "ShuffleSplit(n_splits=10, random_state=293, test_size=0.2, train_size=None)\n",
      "Wall time: 0 ns\n"
     ]
    }
   ],
   "source": [
    "%%time\n",
    "from sklearn.model_selection import ShuffleSplit\n",
    "from sklearn.model_selection import StratifiedKFold\n",
    "\n",
    "import random\n",
    "#Setting Seed\n",
    "#will use this in CV portion\n",
    "random.seed(10)\n",
    "seed = random.randint(1,500)\n",
    "print(\"seed is:\",seed)\n",
    "\n",
    "\n",
    "#Creating the  CV\n",
    "num_cv_iterations = 10\n",
    "num_instances = len(y)\n",
    "cv_object = ShuffleSplit(n_splits=num_cv_iterations,\n",
    "                         random_state = seed,\n",
    "                         test_size  = 0.2)\n",
    "\n",
    "\n",
    "\n",
    "print(cv_object)\n"
   ]
  },
  {
   "cell_type": "markdown",
   "metadata": {},
   "source": [
    "# Creating X & Y arrays"
   ]
  },
  {
   "cell_type": "code",
   "execution_count": 146,
   "metadata": {},
   "outputs": [
    {
     "name": "stdout",
     "output_type": "stream",
     "text": [
      "Wall time: 1.99 ms\n"
     ]
    }
   ],
   "source": [
    "%%time\n",
    "if 'is_spam' in df:\n",
    "    y = df['is_spam'].values\n",
    "    del df['is_spam']\n",
    "    X = df['full_text']"
   ]
  },
  {
   "cell_type": "markdown",
   "metadata": {},
   "source": [
    "# Functions from nlp class"
   ]
  },
  {
   "cell_type": "code",
   "execution_count": 147,
   "metadata": {},
   "outputs": [],
   "source": [
    "wpt = nltk.WordPunctTokenizer()\n",
    "stop_words = nltk.corpus.stopwords.words('english')\n",
    "\n",
    "\n",
    "def build_feature_matrix(documents, feature_type='frequency', \n",
    "                         ngram_range=(1, 1), min_df=0.0, max_df=1.0): \n",
    "    feature_type = feature_type.lower().strip()   \n",
    "    if feature_type == 'binary': \n",
    "        vectorizer = CountVectorizer(binary=True, min_df=min_df, \n",
    "                                     max_df=max_df, ngram_range=ngram_range) \n",
    "    elif feature_type == 'frequency': \n",
    "        vectorizer = CountVectorizer(binary=False, min_df=min_df, \n",
    "                                         max_df=max_df, ngram_range=ngram_range)\n",
    "    elif feature_type == 'tfidf': \n",
    "        vectorizer = TfidfVectorizer(min_df=min_df, max_df=max_df, ngram_range=ngram_range) \n",
    "    else: \n",
    "            raise Exception(\"Wrong feature type entered. Possible values: 'binary', 'frequency', 'tfidf'\") \n",
    "            \n",
    "    feature_matrix = vectorizer.fit_transform(documents).astype(float) \n",
    "        \n",
    "    return vectorizer, feature_matrix\n",
    "\n",
    "\n",
    "def normalize_document(doc):\n",
    "    # lower case and remove special characters\\whitespaces\n",
    "    doc = re.sub(r'[^a-zA-Z\\s]', '', doc, re.I|re.A)\n",
    "    doc = doc.lower()\n",
    "    doc = doc.strip()\n",
    "    # tokenize document\n",
    "    tokens = wpt.tokenize(doc)\n",
    "    # filter stopwords out of document\n",
    "    filtered_tokens = [token for token in tokens if token not in stop_words]\n",
    "    # re-create document from filtered tokens\n",
    "    doc = ' '.join(filtered_tokens)\n",
    "    return doc\n",
    "\n",
    "normalize_corpus = np.vectorize(normalize_document)"
   ]
  },
  {
   "cell_type": "markdown",
   "metadata": {},
   "source": [
    "# NB Model"
   ]
  },
  {
   "cell_type": "code",
   "execution_count": 148,
   "metadata": {},
   "outputs": [
    {
     "name": "stdout",
     "output_type": "stream",
     "text": [
      "Wall time: 2min 36s\n"
     ]
    },
    {
     "data": {
      "text/html": [
       "<div>\n",
       "<style scoped>\n",
       "    .dataframe tbody tr th:only-of-type {\n",
       "        vertical-align: middle;\n",
       "    }\n",
       "\n",
       "    .dataframe tbody tr th {\n",
       "        vertical-align: top;\n",
       "    }\n",
       "\n",
       "    .dataframe thead th {\n",
       "        text-align: right;\n",
       "    }\n",
       "</style>\n",
       "<table border=\"1\" class=\"dataframe\">\n",
       "  <thead>\n",
       "    <tr style=\"text-align: right;\">\n",
       "      <th></th>\n",
       "      <th>Iteration</th>\n",
       "      <th>Accuracy</th>\n",
       "      <th>Sensitivity</th>\n",
       "      <th>Specificity</th>\n",
       "    </tr>\n",
       "  </thead>\n",
       "  <tbody>\n",
       "    <tr>\n",
       "      <td>0</td>\n",
       "      <td>0</td>\n",
       "      <td>0.873864</td>\n",
       "      <td>1.0</td>\n",
       "      <td>0.527054</td>\n",
       "    </tr>\n",
       "    <tr>\n",
       "      <td>1</td>\n",
       "      <td>1</td>\n",
       "      <td>0.887226</td>\n",
       "      <td>1.0</td>\n",
       "      <td>0.569388</td>\n",
       "    </tr>\n",
       "    <tr>\n",
       "      <td>2</td>\n",
       "      <td>2</td>\n",
       "      <td>0.879743</td>\n",
       "      <td>1.0</td>\n",
       "      <td>0.557957</td>\n",
       "    </tr>\n",
       "    <tr>\n",
       "      <td>3</td>\n",
       "      <td>3</td>\n",
       "      <td>0.892036</td>\n",
       "      <td>1.0</td>\n",
       "      <td>0.563715</td>\n",
       "    </tr>\n",
       "    <tr>\n",
       "      <td>4</td>\n",
       "      <td>4</td>\n",
       "      <td>0.886157</td>\n",
       "      <td>1.0</td>\n",
       "      <td>0.561728</td>\n",
       "    </tr>\n",
       "    <tr>\n",
       "      <td>5</td>\n",
       "      <td>5</td>\n",
       "      <td>0.900053</td>\n",
       "      <td>1.0</td>\n",
       "      <td>0.596983</td>\n",
       "    </tr>\n",
       "    <tr>\n",
       "      <td>6</td>\n",
       "      <td>6</td>\n",
       "      <td>0.885623</td>\n",
       "      <td>1.0</td>\n",
       "      <td>0.556936</td>\n",
       "    </tr>\n",
       "    <tr>\n",
       "      <td>7</td>\n",
       "      <td>7</td>\n",
       "      <td>0.893640</td>\n",
       "      <td>1.0</td>\n",
       "      <td>0.566449</td>\n",
       "    </tr>\n",
       "    <tr>\n",
       "      <td>8</td>\n",
       "      <td>8</td>\n",
       "      <td>0.906467</td>\n",
       "      <td>1.0</td>\n",
       "      <td>0.618736</td>\n",
       "    </tr>\n",
       "    <tr>\n",
       "      <td>9</td>\n",
       "      <td>9</td>\n",
       "      <td>0.879209</td>\n",
       "      <td>1.0</td>\n",
       "      <td>0.542510</td>\n",
       "    </tr>\n",
       "  </tbody>\n",
       "</table>\n",
       "</div>"
      ],
      "text/plain": [
       "   Iteration  Accuracy  Sensitivity  Specificity\n",
       "0          0  0.873864          1.0     0.527054\n",
       "1          1  0.887226          1.0     0.569388\n",
       "2          2  0.879743          1.0     0.557957\n",
       "3          3  0.892036          1.0     0.563715\n",
       "4          4  0.886157          1.0     0.561728\n",
       "5          5  0.900053          1.0     0.596983\n",
       "6          6  0.885623          1.0     0.556936\n",
       "7          7  0.893640          1.0     0.566449\n",
       "8          8  0.906467          1.0     0.618736\n",
       "9          9  0.879209          1.0     0.542510"
      ]
     },
     "execution_count": 148,
     "metadata": {},
     "output_type": "execute_result"
    }
   ],
   "source": [
    "%%time\n",
    "from sklearn.feature_extraction.text import CountVectorizer\n",
    "from sklearn.feature_extraction.text import TfidfTransformer\n",
    "from sklearn.naive_bayes import MultinomialNB\n",
    "from sklearn import metrics as mt\n",
    "from sklearn.pipeline import Pipeline\n",
    "\n",
    "##Model\n",
    "clf = MultinomialNB()\n",
    "\n",
    "\n",
    "\n",
    "Iteration = []\n",
    "Accuracy = []\n",
    "Sensitivity = []\n",
    "Specificity = []\n",
    "\n",
    "for iter_num, (train_indices, test_indices) in enumerate(cv_object.split(X,y)):\n",
    "    norm_train_reviews = normalize_corpus(X[train_indices])\n",
    "    vectorizer, train_features = build_feature_matrix(documents=norm_train_reviews,\n",
    "                                                  feature_type='tfidf',\n",
    "                                                  ngram_range=(1, 1), \n",
    "                                                  min_df=0.0, max_df=1.0)                                      \n",
    "                                      \n",
    "    clf.fit(train_features,y[train_indices]) \n",
    "    norm_test_reviews = normalize_corpus(X[test_indices])\n",
    "    test_features = vectorizer.transform(norm_test_reviews)\n",
    "    \n",
    "    y_hat = clf.predict(test_features) # get test set precitions\n",
    "    \n",
    "    cm1 = mt.confusion_matrix(y[test_indices],y_hat)\n",
    "    \n",
    "    Iteration.append(iter_num)\n",
    "    Accuracy.append(mt.accuracy_score(y[test_indices],y_hat))\n",
    "    Sensitivity.append(cm1[0,0]/(cm1[0,0]+cm1[0,1]))\n",
    "    Specificity.append(cm1[1,1]/(cm1[1,0]+cm1[1,1]))\n",
    "    \n",
    "NB_results = pd.DataFrame({'Iteration':Iteration,'Accuracy': Accuracy,'Sensitivity':Sensitivity,\n",
    "                                'Specificity':Specificity},columns = ['Iteration','Accuracy','Sensitivity','Specificity'])\n",
    "\n",
    "\n",
    "NB_results\n"
   ]
  },
  {
   "cell_type": "markdown",
   "metadata": {},
   "source": [
    "# SVM"
   ]
  },
  {
   "cell_type": "code",
   "execution_count": 149,
   "metadata": {},
   "outputs": [
    {
     "name": "stdout",
     "output_type": "stream",
     "text": [
      "Wall time: 2min 35s\n"
     ]
    },
    {
     "data": {
      "text/html": [
       "<div>\n",
       "<style scoped>\n",
       "    .dataframe tbody tr th:only-of-type {\n",
       "        vertical-align: middle;\n",
       "    }\n",
       "\n",
       "    .dataframe tbody tr th {\n",
       "        vertical-align: top;\n",
       "    }\n",
       "\n",
       "    .dataframe thead th {\n",
       "        text-align: right;\n",
       "    }\n",
       "</style>\n",
       "<table border=\"1\" class=\"dataframe\">\n",
       "  <thead>\n",
       "    <tr style=\"text-align: right;\">\n",
       "      <th></th>\n",
       "      <th>Iteration</th>\n",
       "      <th>Accuracy</th>\n",
       "      <th>Sensitivity</th>\n",
       "      <th>Specificity</th>\n",
       "    </tr>\n",
       "  </thead>\n",
       "  <tbody>\n",
       "    <tr>\n",
       "      <td>0</td>\n",
       "      <td>0</td>\n",
       "      <td>0.994121</td>\n",
       "      <td>0.999271</td>\n",
       "      <td>0.979960</td>\n",
       "    </tr>\n",
       "    <tr>\n",
       "      <td>1</td>\n",
       "      <td>1</td>\n",
       "      <td>0.997862</td>\n",
       "      <td>0.998552</td>\n",
       "      <td>0.995918</td>\n",
       "    </tr>\n",
       "    <tr>\n",
       "      <td>2</td>\n",
       "      <td>2</td>\n",
       "      <td>0.991448</td>\n",
       "      <td>0.994860</td>\n",
       "      <td>0.982318</td>\n",
       "    </tr>\n",
       "    <tr>\n",
       "      <td>3</td>\n",
       "      <td>3</td>\n",
       "      <td>0.995724</td>\n",
       "      <td>0.996449</td>\n",
       "      <td>0.993521</td>\n",
       "    </tr>\n",
       "    <tr>\n",
       "      <td>4</td>\n",
       "      <td>4</td>\n",
       "      <td>0.992517</td>\n",
       "      <td>0.997112</td>\n",
       "      <td>0.979424</td>\n",
       "    </tr>\n",
       "    <tr>\n",
       "      <td>5</td>\n",
       "      <td>5</td>\n",
       "      <td>0.992517</td>\n",
       "      <td>0.995025</td>\n",
       "      <td>0.984914</td>\n",
       "    </tr>\n",
       "    <tr>\n",
       "      <td>6</td>\n",
       "      <td>6</td>\n",
       "      <td>0.996259</td>\n",
       "      <td>0.997118</td>\n",
       "      <td>0.993789</td>\n",
       "    </tr>\n",
       "    <tr>\n",
       "      <td>7</td>\n",
       "      <td>7</td>\n",
       "      <td>0.991983</td>\n",
       "      <td>0.995042</td>\n",
       "      <td>0.982571</td>\n",
       "    </tr>\n",
       "    <tr>\n",
       "      <td>8</td>\n",
       "      <td>8</td>\n",
       "      <td>0.993052</td>\n",
       "      <td>0.996459</td>\n",
       "      <td>0.982571</td>\n",
       "    </tr>\n",
       "    <tr>\n",
       "      <td>9</td>\n",
       "      <td>9</td>\n",
       "      <td>0.992517</td>\n",
       "      <td>0.997821</td>\n",
       "      <td>0.977733</td>\n",
       "    </tr>\n",
       "  </tbody>\n",
       "</table>\n",
       "</div>"
      ],
      "text/plain": [
       "   Iteration  Accuracy  Sensitivity  Specificity\n",
       "0          0  0.994121     0.999271     0.979960\n",
       "1          1  0.997862     0.998552     0.995918\n",
       "2          2  0.991448     0.994860     0.982318\n",
       "3          3  0.995724     0.996449     0.993521\n",
       "4          4  0.992517     0.997112     0.979424\n",
       "5          5  0.992517     0.995025     0.984914\n",
       "6          6  0.996259     0.997118     0.993789\n",
       "7          7  0.991983     0.995042     0.982571\n",
       "8          8  0.993052     0.996459     0.982571\n",
       "9          9  0.992517     0.997821     0.977733"
      ]
     },
     "execution_count": 149,
     "metadata": {},
     "output_type": "execute_result"
    }
   ],
   "source": [
    "%%time\n",
    "from sklearn.linear_model import SGDClassifier\n",
    "\n",
    "clf = SGDClassifier(loss='hinge', max_iter=500)\n",
    "\n",
    "\n",
    "\n",
    "Iteration = []\n",
    "Accuracy = []\n",
    "Sensitivity = []\n",
    "Specificity = []\n",
    "\n",
    "for iter_num, (train_indices, test_indices) in enumerate(cv_object.split(X,y)):\n",
    "    norm_train_reviews = normalize_corpus(X[train_indices])\n",
    "    vectorizer, train_features = build_feature_matrix(documents=norm_train_reviews,\n",
    "                                                  feature_type='tfidf',\n",
    "                                                  ngram_range=(1, 1), \n",
    "                                                  min_df=0.0, max_df=1.0)                                      \n",
    "                                      \n",
    "    clf.fit(train_features,y[train_indices]) \n",
    "    norm_test_reviews = normalize_corpus(X[test_indices])\n",
    "    test_features = vectorizer.transform(norm_test_reviews)\n",
    "    \n",
    "    y_hat = clf.predict(test_features) # get test set precitions\n",
    "    \n",
    "    cm1 = mt.confusion_matrix(y[test_indices],y_hat)\n",
    "    \n",
    "    Iteration.append(iter_num)\n",
    "    Accuracy.append(mt.accuracy_score(y[test_indices],y_hat))\n",
    "    Sensitivity.append(cm1[0,0]/(cm1[0,0]+cm1[0,1]))\n",
    "    Specificity.append(cm1[1,1]/(cm1[1,0]+cm1[1,1]))\n",
    "    \n",
    "SGD_results = pd.DataFrame({'Iteration':Iteration,'Accuracy': Accuracy,'Sensitivity':Sensitivity,\n",
    "                                'Specificity':Specificity},columns = ['Iteration','Accuracy','Sensitivity','Specificity'])\n",
    "\n",
    "\n",
    "SGD_results\n"
   ]
  },
  {
   "cell_type": "markdown",
   "metadata": {},
   "source": [
    "# NB ROC Curve"
   ]
  },
  {
   "cell_type": "code",
   "execution_count": 161,
   "metadata": {},
   "outputs": [
    {
     "data": {
      "image/png": "[encoded data removed]",
      "text/plain": [
       "<Figure size 432x288 with 1 Axes>"
      ]
     },
     "metadata": {
      "needs_background": "light"
     },
     "output_type": "display_data"
    },
    {
     "name": "stdout",
     "output_type": "stream",
     "text": [
      "Wall time: 15.7 s\n"
     ]
    }
   ],
   "source": [
    "%%time\n",
    "\n",
    "from sklearn.datasets import make_classification\n",
    "from sklearn.model_selection import train_test_split\n",
    "from sklearn.metrics import roc_curve, auc\n",
    "from matplotlib import pyplot\n",
    "\n",
    "clf = MultinomialNB()\n",
    "\n",
    "X_train, X_test, y_train, y_test = train_test_split(X,y, test_size = 0.20)\n",
    "\n",
    "norm_train_reviews = normalize_corpus(X_train)\n",
    "                                    \n",
    "\n",
    "# feature extraction                                                                            \n",
    "vectorizer, train_features = build_feature_matrix(documents=norm_train_reviews,\n",
    "                                                  feature_type='tfidf',\n",
    "                                                  ngram_range=(1, 1), \n",
    "                                                  min_df=0.0, max_df=1.0) \n",
    "\n",
    "                                                  \n",
    "clf.fit(train_features, y_train)\n",
    "\n",
    "# extract features                                     \n",
    "\n",
    "norm_test_reviews = normalize_corpus(X_test)\n",
    "test_features = vectorizer.transform(norm_test_reviews)\n",
    "\n",
    "y_train_pred =clf.predict(train_features)    \n",
    "y_test_pred = clf.predict(test_features) \n",
    "\n",
    "\n",
    "                                                  \n",
    "###Get curves                                                  \n",
    "train_fpr, train_tpr, tr_thresholds = roc_curve(y_train, y_train_pred)\n",
    "test_fpr, test_tpr, te_thresholds = roc_curve(y_test, y_test_pred)\n",
    "\n",
    "plt.grid()\n",
    "\n",
    "plt.plot(train_fpr, train_tpr, label=\" AUC TRAIN =\"+str(auc(train_fpr, train_tpr)))\n",
    "plt.plot(test_fpr, test_tpr, label=\" AUC TEST =\"+str(auc(test_fpr, test_tpr)))\n",
    "plt.plot([0,1],[0,1],'g--')\n",
    "plt.legend()\n",
    "plt.xlabel(\"False Positive Rate\")\n",
    "plt.ylabel(\"True Positive Rate\")\n",
    "plt.title(\"AUC(ROC curve)\")\n",
    "plt.grid(color='black', linestyle='-', linewidth=0.5)\n",
    "plt.show()"
   ]
  },
  {
   "cell_type": "markdown",
   "metadata": {},
   "source": [
    "# SVM ROC Curve"
   ]
  },
  {
   "cell_type": "code",
   "execution_count": 160,
   "metadata": {},
   "outputs": [
    {
     "data": {
      "image/png": "[encoded data removed]",
      "text/plain": [
       "<Figure size 432x288 with 1 Axes>"
      ]
     },
     "metadata": {
      "needs_background": "light"
     },
     "output_type": "display_data"
    },
    {
     "name": "stdout",
     "output_type": "stream",
     "text": [
      "Wall time: 15.4 s\n"
     ]
    }
   ],
   "source": [
    "%%time\n",
    "from sklearn.datasets import make_classification\n",
    "from sklearn.model_selection import train_test_split\n",
    "from sklearn.metrics import roc_curve, auc\n",
    "from matplotlib import pyplot\n",
    "\n",
    "clf = SGDClassifier(loss='hinge', max_iter=500)\n",
    "\n",
    "X_train, X_test, y_train, y_test = train_test_split(X,y, test_size = 0.20)\n",
    "\n",
    "norm_train_reviews = normalize_corpus(X_train)\n",
    "                                    \n",
    "\n",
    "# feature extraction                                                                            \n",
    "vectorizer, train_features = build_feature_matrix(documents=norm_train_reviews,\n",
    "                                                  feature_type='tfidf',\n",
    "                                                  ngram_range=(1, 1), \n",
    "                                                  min_df=0.0, max_df=1.0) \n",
    "\n",
    "                                                  \n",
    "clf.fit(train_features, y_train)\n",
    "\n",
    "# extract features                                     \n",
    "\n",
    "norm_test_reviews = normalize_corpus(X_test)\n",
    "test_features = vectorizer.transform(norm_test_reviews)\n",
    "\n",
    "y_train_pred =clf.predict(train_features)    \n",
    "y_test_pred = clf.predict(test_features) \n",
    "\n",
    "\n",
    "                                                  \n",
    "###Get curves                                                  \n",
    "train_fpr, train_tpr, tr_thresholds = roc_curve(y_train, y_train_pred)\n",
    "test_fpr, test_tpr, te_thresholds = roc_curve(y_test, y_test_pred)\n",
    "\n",
    "plt.grid()\n",
    "\n",
    "plt.plot(train_fpr, train_tpr, label=\" AUC TRAIN =\"+str(auc(train_fpr, train_tpr)))\n",
    "plt.plot(test_fpr, test_tpr, label=\" AUC TEST =\"+str(auc(test_fpr, test_tpr)))\n",
    "plt.plot([0,1],[0,1],'g--')\n",
    "plt.legend()\n",
    "plt.xlabel(\"False Positive Rate\")\n",
    "plt.ylabel(\"True Positive Rate\")\n",
    "plt.title(\"AUC(ROC curve)\")\n",
    "plt.grid(color='black', linestyle='-', linewidth=0.5)\n",
    "plt.show()"
   ]
  },
  {
   "cell_type": "code",
   "execution_count": null,
   "metadata": {},
   "outputs": [],
   "source": []
  }
 ],
 "metadata": {
  "kernelspec": {
   "display_name": "Python 3",
   "language": "python",
   "name": "python3"
  },
  "language_info": {
   "codemirror_mode": {
    "name": "ipython",
    "version": 3
   },
   "file_extension": ".py",
   "mimetype": "text/x-python",
   "name": "python",
   "nbconvert_exporter": "python",
   "pygments_lexer": "ipython3",
   "version": "3.7.4"
  }
 },
 "nbformat": 4,
 "nbformat_minor": 2
}
