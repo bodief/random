{
 "cells": [
  {
   "cell_type": "code",
   "execution_count": 1,
   "metadata": {},
   "outputs": [
    {
     "name": "stdout",
     "output_type": "stream",
     "text": [
      "Wall time: 1.61 s\n"
     ]
    }
   ],
   "source": [
    "%%time\n",
    "from os import listdir, getcwd, chdir\n",
    "from os.path import isfile, join, dirname, realpath\n",
    "import pandas as pd\n",
    "import re\n",
    "from bs4 import BeautifulSoup as bs\n",
    "import nltk\n",
    "from nltk.corpus import wordnet\n",
    "from nltk import word_tokenize\n",
    "import numpy as np\n",
    "import string\n",
    "from nltk.corpus import stopwords\n",
    "import os\n",
    "import email\n",
    "from html.parser import HTMLParser\n",
    "import matplotlib.pyplot as plt\n",
    "import seaborn as sns"
   ]
  },
  {
   "cell_type": "code",
   "execution_count": 2,
   "metadata": {},
   "outputs": [
    {
     "name": "stdout",
     "output_type": "stream",
     "text": [
      "Wall time: 1.99 ms\n"
     ]
    }
   ],
   "source": [
    "%%time\n",
    "wpt = nltk.WordPunctTokenizer()\n",
    "stop_words = nltk.corpus.stopwords.words('english')\n",
    "\n",
    "def normalize_document(doc):\n",
    "    # lower case and remove special characters\\whitespaces\n",
    "    doc = re.sub(r'[^a-zA-Z\\s]', '', doc, re.I|re.A)\n",
    "    doc = doc.lower()\n",
    "    doc = doc.strip()\n",
    "    # tokenize document\n",
    "    tokens = wpt.tokenize(doc)\n",
    "    # filter stopwords out of document\n",
    "    filtered_tokens = [token for token in tokens if token not in stop_words]\n",
    "    # re-create document from filtered tokens\n",
    "    doc = ' '.join(filtered_tokens)\n",
    "    return doc"
   ]
  },
  {
   "cell_type": "code",
   "execution_count": 3,
   "metadata": {},
   "outputs": [],
   "source": [
    "df = pd.read_csv('C:/Users/bodie/Documents/Spreadsheets/emails_not_normalized.csv')"
   ]
  },
  {
   "cell_type": "code",
   "execution_count": 4,
   "metadata": {},
   "outputs": [],
   "source": [
    "\n",
    "df['full_text'] = df['full_text'].apply(normalize_document)"
   ]
  },
  {
   "cell_type": "code",
   "execution_count": 5,
   "metadata": {},
   "outputs": [
    {
     "name": "stdout",
     "output_type": "stream",
     "text": [
      "Wall time: 8.08 ms\n"
     ]
    }
   ],
   "source": [
    "%%time\n",
    "from sklearn.pipeline import Pipeline\n",
    "from sklearn.svm import LinearSVC\n",
    "from sklearn.feature_extraction.text import TfidfTransformer\n",
    "from sklearn.feature_extraction.text import CountVectorizer\n",
    "from sklearn.calibration import CalibratedClassifierCV\n",
    "\n",
    "\n",
    "clf = LinearSVC(random_state=0, tol=1e-5)\n",
    "\n",
    "calibrated_clf = CalibratedClassifierCV(base_estimator=clf, cv=3)\n",
    "\n",
    "text_clf = Pipeline([\n",
    "  ('vect', CountVectorizer()),\n",
    "   ('tfidf', TfidfTransformer()),\n",
    "('calibrated_clf',calibrated_clf)])"
   ]
  },
  {
   "cell_type": "code",
   "execution_count": 6,
   "metadata": {},
   "outputs": [
    {
     "name": "stdout",
     "output_type": "stream",
     "text": [
      "Pipeline(steps=[('vect', CountVectorizer()), ('tfidf', TfidfTransformer()),\n",
      "                ('calibrated_clf',\n",
      "                 CalibratedClassifierCV(base_estimator=LinearSVC(random_state=0,\n",
      "                                                                 tol=1e-05),\n",
      "                                        cv=3))])\n"
     ]
    }
   ],
   "source": [
    "print(text_clf)"
   ]
  },
  {
   "cell_type": "code",
   "execution_count": 7,
   "metadata": {},
   "outputs": [
    {
     "name": "stdout",
     "output_type": "stream",
     "text": [
      "Wall time: 0 ns\n"
     ]
    }
   ],
   "source": [
    "%%time\n",
    "\n",
    "y = df['is_spam'].values\n",
    "   \n",
    "X = df['full_text'].tolist()\n"
   ]
  },
  {
   "cell_type": "code",
   "execution_count": 8,
   "metadata": {},
   "outputs": [
    {
     "data": {
      "text/plain": [
       "['amailbotwebde thu aug returnpath amailbotwebde deliveredto zzzzlocalhostspamassassintaintorg received localhost localhost phoboslabsspamassassintaintorg postfix esmtp id bc thu aug edt received mailwebnotenet localhost pop fetchmail zzzzlocalhost singledrop thu aug ist received ddit webnotenet esmtp id naa thu aug amailbotwebde received rsmtpkoreacom ddit microsoft smtpsvc sat aug 2 : 10 + 0900 : subject : life insurance - pay ? date : wed , 21 aug 2002 20 : 31 : 57 - 1600 mime - version : 1 . 0 message - id : < 0103c1042001882dd_it7 @ dd_it7 > content - type : text / html ; charset =\" iso - 8859 - 1 \" content - transfer - encoding : quoted - printable <= / tr > save 70 % life insurance . spend ? life quote savings ensurin = g family \\' financial security important . life quote savings = kes buying life insurance simple affordable . provide free access = best companies lowest rates . life quote savings fast , eas = saves money ! let us help get started best val = ues country new coverage . save hundreds even tho = usands dollars requesting free quote lifequote savings . = service take less 5 minutes complete . shop = compare . save 70 % types life insurance ! click = free quote ! protecting family best investment \\' eve = r make ! receipt = email error / wish removed list , please click type = remove . reside state prohibits e - mail solicitations insuran = ce , please disregard email .',\n",
       " 'ilugadminlinuxie thu aug returnpath deliveredto zzzzlocalhostspamassassintaintorg received localhost localhost phoboslabsspamassassintaintorg postfix esmtp id afdf thu aug edt received phobos localhost imap fetchmail zzzzlocalhost singledrop thu aug ist received lughtuathaorg rootlughtuathaorg dogmaslashnullorg esmtp id gmcjiz thu aug received lugh rootlocalhost lughtuathaorg esmtp id naa thu aug received emailqvescom 3 . 251 ]) lugh . tuatha . org ( 8 . 9 . 3 / 8 . 9 . 3 ) esmtp id naa29282 ; thu , 22 aug 2002 13 : 18 : 37 + 0100 x - authentication - warning : lugh . tuatha . org : host [ 67 . 104 . 83 . 251 ] claimed email . qves . com received : qvp0091 ([ 169 . 254 . 6 . 22 ]) email . qves . com microsoft smtpsvc ( 5 . 0 . 2195 . 2966 ); thu , 22 aug 2002 06 : 18 : 18 - 0600 : \" slim \" : date : thu , 22 aug 2002 06 : 18 : 18 - 0600 message - id : < 59e6301c249d5 $ ffb7ea20 $ 1606fea9 @ freeyankeedom . com > mime - version : 1 . 0 content - type : text / plain ; charset =\" iso - 8859 - 1 \" content - transfer - encoding : 7bit x - mailer : microsoft cdo windows 2000 thread - index : acjj1f + 3fwdz11amr6uwbmqn5ggxxw == content - class : urn : content - classes : message x - mimeole : produced microsoft mimeole v6 . 00 . 2462 . 0000 x - originalarrivaltime : 22 aug 2002 12 : 18 : 18 . 0699 ( utc ) filetime =[ ffb949b0 : 01c249d5 ] subject : [ ilug ] guaranteed lose 10 - 12 lbs 30 days 10 . 206 sender : ilug - admin @ linux . ie errors - : ilug - admin @ linux . ie x - mailman - version : 1 . 1 precedence : bulk list - id : irish linux users \\' group x - beenthere : ilug @ linux . ie 1 ) fight risk cancer ! http :// www . adclick . ws / p . cfm ? = 315 & = pk007 2 ) slim - guaranteed lose 10 - 12 lbs 30 days http :// www . adclick . ws / p . cfm ? = 249 & = pk007 3 ) get child support deserve - free legal advice http :// www . adclick . ws / p . cfm ? = 245 & = pk002 4 ) join web \\' fastest growing singles community http :// www . adclick . ws / p . cfm ? = 259 & = pk007 5 ) start private photo album online ! http :// www . adclick . ws / p . cfm ? = 283 & = pk007 wonderful day , offer manager prizemama wish leave list please use link . http :// www . qves . com / trim /? ilug @ linux . ie % 7c17 % 7c114258 -- irish linux users \\' group : ilug @ linux . ie http :// www . linux . ie / mailman / listinfo / ilug ( un ) subscription information . list maintainer : listmaster @ linux . ie',\n",
       " 'sabrinamxpremiocom thu aug returnpath deliveredto zzzzlocalhostspamassassintaintorg received localhost localhost phoboslabsspamassassintaintorg postfix esmtp id ec thu aug edt received mailwebnotenet localhost pop fetchmail zzzzlocalhost singledrop thu aug ist received emailqvescom emailqvesnet may forged webnotenet esmtp id oaa thu aug received qvp emailqvescom microsoft smtpsvc thu aug 0 : \" slim \" : subject : guaranteed lose 10 - 12 lbs 30 days 11 . 150 date : thu , 22 aug 2002 07 : 36 : 19 - 0600 message - id : < 9a63c01c249e0 $ e5a9d610 $ 1106fea9 @ freeyankeedom . com > mime - version : 1 . 0 content - type : text / plain ; charset =\" iso - 8859 - 1 \" content - transfer - encoding : 7bit x - mailer : microsoft cdo windows 2000 thread - index : acjj4owpowgq7rdnswcz5he3x9zzdq == content - class : urn : content - classes : message x - mimeole : produced microsoft mimeole v6 . 00 . 2462 . 0000 x - originalarrivaltime : 22 aug 2002 13 : 36 : 20 . 0969 ( utc ) filetime =[ e692fd90 : 01c249e0 ] 1 ) fight risk cancer ! http :// www . adclick . ws / p . cfm ? = 315 & = pk007 2 ) slim - guaranteed lose 10 - 12 lbs 30 days http :// www . adclick . ws / p . cfm ? = 249 & = pk007 3 ) get child support deserve - free legal advice http :// www . adclick . ws / p . cfm ? = 245 & = pk002 4 ) join web \\' fastest growing singles community http :// www . adclick . ws / p . cfm ? = 259 & = pk007 5 ) start private photo album online ! http :// www . adclick . ws / p . cfm ? = 283 & = pk007 wonderful day , offer manager prizemama wish leave list please use link . http :// www . qves . com / trim /? zzzz @ spamassassin . taint . org % 7c17 % 7c308417',\n",
       " 'wsupplayfulcom thu aug returnpath deliveredto zzzzlocalhostspamassassintaintorg received localhost localhost phoboslabsspamassassintaintorg postfix esmtp id bedf thu aug edt received mailwebnotenet localhost pop fetchmail zzzzlocalhost singledrop thu aug ist received smtpeasydnscom smtpeasydnscom webnotenet esmtp id qaa thu aug received unknown smtpeasydnscom postfix smtp id eea thu aug edt received : unknown ( 52 . 127 . 142 . 42 ) rly - xl04 . mx . aol . com smtp ; aug , 22 2002 8 : 02 : 13 + 0400 received : [ 176 . 244 . 234 . 14 ] smtp - server6 . tampabay . rr . com local ; aug , 22 2002 6 : 50 : 51 + 1200 received : [ 106 . 226 . 127 . 61 ] n7 . groups . yahoo . com local ; aug , 22 2002 5 : 50 : 53 + 0300 received : 177 . 139 . 227 . 166 ([ 177 . 139 . 227 . 166 ]) sparc . isl . net qmqp ; aug , 22 2002 4 : 47 : 16 - 0000 : account services : zzzz @ spamassassin . taint . org cc : subject : : fw : user name & password membership 5 sites zzzz @ spamassassin . taint . org pviqg sender : account services mime - version : 1 . 0 content - type : text / plain ; charset =\" iso - 8859 - 1 \" date : thu , 22 aug 2002 08 : 13 : 35 - 0700 x - mailer : microsoft outlook express 5 . 00 . 2615 . 200 x - priority : 1 message - id : < 20020822151301 . 694632ee5a @ smtp . easydns . com > ################################################## # # # adult club # # offers free membership # # # ################################################## >>>>> instant access sites >>>>> user name password . >>>>> user name : zzzz @ spamassassin . taint . org >>>>> password : 760382 5 best adult sites internet free ! --------------------------------------- news 08 / 18 / 02 2 . 9 million members signed free , last month 721 , 184 new members . one yet ??? --------------------------------------- membership faq q . offering free access 5 adult membership sites free ? . advertisers pay ad space \\' pay membership . q . true membership life ? . absolutely \\' never pay cent advertisers . q . give account friends family ? . yes , long age 18 . q . sign 5 membership sites ? . one get access . q . get started ? . click one following links become member . - multi million dollar operations policies rules . - fill required info \\' charge free pass ! - \\' believe us , read terms conditions . --------------------------- # 5 . > adults farm http :// 80 . 71 . 66 . 8 / farm /? aid = 760382 girls animals getting freaky .... free lifetime membership !! # 4 . > sexy celebes http :// 80 . 71 . 66 . 8 / celebst /? aid = 760382 thousands xxx celebes ... free lifetime membership !! # 3 . > play house porn http :// 80 . 71 . 66 . 8 / mega /? aid = 760382 live feeds 60 sites web cams ... free lifetime membership !! # 2 . > asian sex fantasies http :// 80 . 71 . 66 . 8 / asian /? aid = 760382 japanese schoolgirls , live sex shows ... free lifetime membership !! # 1 . > lesbian lace http :// 80 . 71 . 66 . 8 / lesbian /? aid = 760382 girls girls getting freaky ! ... free lifetime membership !! -------------------------- jennifer simpson , miami , fl free lifetime membership entertained boyffriend last two years ! adult sites best net ! joe morgan manhattan , ny live sex shows live sex cams unbelievable . best part porn sites , \\' absolutely free ! -------------------------- removal instructions : received advertisement opted receive free adult internet offers specials affiliated websites . wish receive emails received email error may opt - database http :// 80 . 71 . 66 . 8 / optout / . please allow 24 hours removal . vonolmosatkirekpups',\n",
       " 'socialadminlinuxie thu aug returnpath deliveredto zzzzlocalhostspamassassintaintorg received localhost localhost phoboslabsspamassassintaintorg postfix esmtp id bf thu aug edt received phobos localhost imap fetchmail zzzzlocalhost singledrop thu aug ist received lughtuathaorg rootlughtuathaorg dogmaslashnullorg esmtp id gmfyoz thu aug received lugh rootlocalhost lughtuathaorg esmtp id qaa thu aug received emailqvescom . 83 . 251 ]) lugh . tuatha . org ( 8 . 9 . 3 / 8 . 9 . 3 ) esmtp id qaa07662 ; thu , 22 aug 2002 16 : 33 : 37 + 0100 x - authentication - warning : lugh . tuatha . org : host [ 67 . 104 . 83 . 251 ] claimed email . qves . com received : qvp0080 ([ 169 . 254 . 6 . 11 ]) email . qves . com microsoft smtpsvc ( 5 . 0 . 2195 . 2966 ); thu , 22 aug 2002 09 : 33 : 08 - 0600 : \" slim n trim \" : date : thu , 22 aug 2002 09 : 33 : 07 - 0600 message - id : < 104c1101c249f1 $ 36e098b0 $ 0b06fea9 @ freeyankeedom . com > mime - version : 1 . 0 content - type : text / plain ; charset =\" iso - 8859 - 1 \" content - transfer - encoding : 7bit x - mailer : microsoft cdo windows 2000 thread - index : acjj8tbzookej0attskxj7zmoa0e / w == content - class : urn : content - classes : message x - mimeole : produced microsoft mimeole v6 . 00 . 2462 . 0000 x - originalarrivaltime : 22 aug 2002 15 : 33 : 08 . 0313 ( utc ) filetime =[ 3746d490 : 01c249f1 ] subject : [ ilug - social ] : guaranteed lose 10 - 12 lbs 30 days 10 . 148 sender : social - admin @ linux . ie errors - : social - admin @ linux . ie x - mailman - version : 1 . 1 precedence : bulk list - id : irish linux users \\' group social events x - beenthere : social @ linux . ie thought might like : 1 ) slim - guaranteed lose 10 - 12 lbs 30 days http :// www . freeyankee . com / cgi / fy2 / . cgi ? l = 822slim1 2 ) fight risk cancer ! http :// www . freeyankee . com / cgi / fy2 / . cgi ? l = 822nic1 3 ) get child support deserve - free legal advice http :// www . freeyankee . com / cgi / fy2 / . cgi ? l = 822ppl1 offer manager daily - deals wish leave list please use link . http :// www . qves . com / trim /? social @ linux . ie % 7c29 % 7c134077 -- irish linux users \\' group social events : social @ linux . ie http :// www . linux . ie / mailman / listinfo / social ( un ) subscription information . list maintainer : listmaster @ linux . ie']"
      ]
     },
     "execution_count": 8,
     "metadata": {},
     "output_type": "execute_result"
    }
   ],
   "source": [
    "X[0:5]"
   ]
  },
  {
   "cell_type": "code",
   "execution_count": 9,
   "metadata": {},
   "outputs": [
    {
     "name": "stdout",
     "output_type": "stream",
     "text": [
      "Wall time: 3.01 s\n"
     ]
    },
    {
     "data": {
      "text/plain": [
       "Pipeline(steps=[('vect', CountVectorizer()), ('tfidf', TfidfTransformer()),\n",
       "                ('calibrated_clf',\n",
       "                 CalibratedClassifierCV(base_estimator=LinearSVC(random_state=0,\n",
       "                                                                 tol=1e-05),\n",
       "                                        cv=3))])"
      ]
     },
     "execution_count": 9,
     "metadata": {},
     "output_type": "execute_result"
    }
   ],
   "source": [
    "%%time\n",
    "text_clf.fit(X,y)"
   ]
  },
  {
   "cell_type": "code",
   "execution_count": 10,
   "metadata": {},
   "outputs": [
    {
     "name": "stdout",
     "output_type": "stream",
     "text": [
      "Wall time: 2.27 s\n"
     ]
    },
    {
     "data": {
      "text/plain": [
       "array([[6.67032143e-04, 9.99332968e-01],\n",
       "       [8.46451173e-02, 9.15354883e-01],\n",
       "       [2.53029788e-03, 9.97469702e-01],\n",
       "       [6.95580440e-03, 9.93044196e-01],\n",
       "       [1.07002678e-01, 8.92997322e-01]])"
      ]
     },
     "execution_count": 10,
     "metadata": {},
     "output_type": "execute_result"
    }
   ],
   "source": [
    "%%time\n",
    "text_clf.predict_proba(X)[:5, :]"
   ]
  },
  {
   "cell_type": "code",
   "execution_count": 11,
   "metadata": {},
   "outputs": [
    {
     "data": {
      "text/html": [
       "<div>\n",
       "<style scoped>\n",
       "    .dataframe tbody tr th:only-of-type {\n",
       "        vertical-align: middle;\n",
       "    }\n",
       "\n",
       "    .dataframe tbody tr th {\n",
       "        vertical-align: top;\n",
       "    }\n",
       "\n",
       "    .dataframe thead th {\n",
       "        text-align: right;\n",
       "    }\n",
       "</style>\n",
       "<table border=\"1\" class=\"dataframe\">\n",
       "  <thead>\n",
       "    <tr style=\"text-align: right;\">\n",
       "      <th></th>\n",
       "      <th>idf_weights</th>\n",
       "    </tr>\n",
       "  </thead>\n",
       "  <tbody>\n",
       "    <tr>\n",
       "      <th>date</th>\n",
       "      <td>1.000535</td>\n",
       "    </tr>\n",
       "    <tr>\n",
       "      <th>subject</th>\n",
       "      <td>1.001498</td>\n",
       "    </tr>\n",
       "    <tr>\n",
       "      <th>id</th>\n",
       "      <td>1.024019</td>\n",
       "    </tr>\n",
       "    <tr>\n",
       "      <th>received</th>\n",
       "      <td>1.025444</td>\n",
       "    </tr>\n",
       "    <tr>\n",
       "      <th>returnpath</th>\n",
       "      <td>1.026651</td>\n",
       "    </tr>\n",
       "    <tr>\n",
       "      <th>...</th>\n",
       "      <td>...</td>\n",
       "    </tr>\n",
       "    <tr>\n",
       "      <th>hovels</th>\n",
       "      <td>9.450412</td>\n",
       "    </tr>\n",
       "    <tr>\n",
       "      <th>57d10910d1f977334df9f1b25c6a2d08</th>\n",
       "      <td>9.450412</td>\n",
       "    </tr>\n",
       "    <tr>\n",
       "      <th>57c6</th>\n",
       "      <td>9.450412</td>\n",
       "    </tr>\n",
       "    <tr>\n",
       "      <th>howd</th>\n",
       "      <td>9.450412</td>\n",
       "    </tr>\n",
       "    <tr>\n",
       "      <th>jodra</th>\n",
       "      <td>9.450412</td>\n",
       "    </tr>\n",
       "  </tbody>\n",
       "</table>\n",
       "<p>129641 rows × 1 columns</p>\n",
       "</div>"
      ],
      "text/plain": [
       "                                  idf_weights\n",
       "date                                 1.000535\n",
       "subject                              1.001498\n",
       "id                                   1.024019\n",
       "received                             1.025444\n",
       "returnpath                           1.026651\n",
       "...                                       ...\n",
       "hovels                               9.450412\n",
       "57d10910d1f977334df9f1b25c6a2d08     9.450412\n",
       "57c6                                 9.450412\n",
       "howd                                 9.450412\n",
       "jodra                                9.450412\n",
       "\n",
       "[129641 rows x 1 columns]"
      ]
     },
     "execution_count": 11,
     "metadata": {},
     "output_type": "execute_result"
    }
   ],
   "source": [
    "df_idf = pd.DataFrame(text_clf['tfidf'].idf_, index=text_clf['vect'].get_feature_names(),columns=[\"idf_weights\"]) \n",
    "\n",
    "df_idf.sort_values(by=['idf_weights'])"
   ]
  },
  {
   "cell_type": "code",
   "execution_count": 12,
   "metadata": {},
   "outputs": [
    {
     "name": "stdout",
     "output_type": "stream",
     "text": [
      "Wall time: 2.32 s\n"
     ]
    }
   ],
   "source": [
    "%%time\n",
    "probabilities = text_clf.predict_proba(X)"
   ]
  },
  {
   "cell_type": "code",
   "execution_count": 13,
   "metadata": {},
   "outputs": [
    {
     "name": "stdout",
     "output_type": "stream",
     "text": [
      "Wall time: 3.74 ms\n"
     ]
    }
   ],
   "source": [
    "%%time\n",
    "from sklearn.model_selection import train_test_split\n",
    "\n",
    "X_train, X_test, y_train, y_test = train_test_split(X, y)"
   ]
  },
  {
   "cell_type": "code",
   "execution_count": null,
   "metadata": {},
   "outputs": [],
   "source": [
    "%%time\n",
    "text_clf.fit(X_train,y_train)"
   ]
  },
  {
   "cell_type": "code",
   "execution_count": null,
   "metadata": {},
   "outputs": [],
   "source": [
    "%%time\n",
    "predictions = text_clf.predict(X_test)"
   ]
  },
  {
   "cell_type": "code",
   "execution_count": null,
   "metadata": {},
   "outputs": [],
   "source": [
    "%%time\n",
    "from sklearn.metrics import classification_report\n",
    "\n",
    "target_names = ['class 0', 'class 1']\n",
    "\n",
    "print(classification_report(y_test, predictions, target_names=target_names))"
   ]
  },
  {
   "cell_type": "code",
   "execution_count": null,
   "metadata": {},
   "outputs": [],
   "source": [
    "df_idf.to_excel(\"weights.xlsx\")"
   ]
  },
  {
   "cell_type": "code",
   "execution_count": null,
   "metadata": {},
   "outputs": [],
   "source": [
    "import pickle\n",
    "\n",
    "filename = 'finalized_model.sav'\n",
    "pickle.dump(text_clf, open(filename, 'wb'))"
   ]
  },
  {
   "cell_type": "code",
   "execution_count": null,
   "metadata": {},
   "outputs": [],
   "source": [
    "test_prediction = X_test[0]"
   ]
  },
  {
   "cell_type": "code",
   "execution_count": null,
   "metadata": {},
   "outputs": [],
   "source": [
    "loaded_model = pickle.load(open('finalized_model.sav', 'rb'))"
   ]
  },
  {
   "cell_type": "code",
   "execution_count": null,
   "metadata": {},
   "outputs": [],
   "source": [
    "\n",
    "test_prediction = [test_prediction]\n",
    "\n",
    "loaded_model.predict(test_prediction)"
   ]
  }
 ],
 "metadata": {
  "kernelspec": {
   "display_name": "Python 3",
   "language": "python",
   "name": "python3"
  },
  "language_info": {
   "codemirror_mode": {
    "name": "ipython",
    "version": 3
   },
   "file_extension": ".py",
   "mimetype": "text/x-python",
   "name": "python",
   "nbconvert_exporter": "python",
   "pygments_lexer": "ipython3",
   "version": "3.7.4"
  }
 },
 "nbformat": 4,
 "nbformat_minor": 2
}
