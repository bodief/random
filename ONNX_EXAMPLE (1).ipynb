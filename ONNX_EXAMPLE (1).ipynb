{
 "cells": [
  {
   "cell_type": "code",
   "execution_count": 1,
   "metadata": {},
   "outputs": [
    {
     "name": "stdout",
     "output_type": "stream",
     "text": [
      "Wall time: 2.99 s\n"
     ]
    }
   ],
   "source": [
    "%%time\n",
    "import warnings\n",
    "import numpy\n",
    "import pandas as pd\n",
    "import onnxruntime as rt\n",
    "from tqdm import tqdm\n",
    "from sklearn.compose import ColumnTransformer\n",
    "from sklearn.datasets import load_iris\n",
    "from sklearn.pipeline import Pipeline\n",
    "from sklearn.preprocessing import StandardScaler\n",
    "from sklearn.feature_extraction.text import CountVectorizer, TfidfTransformer\n",
    "from sklearn.ensemble import RandomForestClassifier\n",
    "try:\n",
    "    from sklearn.ensemble import HistGradientBoostingClassifier\n",
    "except ImportError:\n",
    "    HistGradientBoostingClassifier = None\n",
    "from xgboost import XGBClassifier\n",
    "from lightgbm import LGBMClassifier\n",
    "from skl2onnx.common.data_types import FloatTensorType, StringTensorType\n",
    "from skl2onnx import to_onnx, update_registered_converter\n",
    "from skl2onnx.sklapi import CastTransformer, ReplaceTransformer\n",
    "from skl2onnx.common.shape_calculator import (\n",
    "    calculate_linear_classifier_output_shapes)\n",
    "from onnxmltools.convert.xgboost.operator_converters.XGBoost import (\n",
    "    convert_xgboost)\n",
    "from onnxmltools.convert.lightgbm.operator_converters.LightGbm import (\n",
    "    convert_lightgbm)\n"
   ]
  },
  {
   "cell_type": "code",
   "execution_count": 3,
   "metadata": {},
   "outputs": [],
   "source": [
    "df = pd.read_csv('C:/Users/bodie/Documents/Spreadsheets/emails_not_normalized.csv')"
   ]
  },
  {
   "cell_type": "code",
   "execution_count": 8,
   "metadata": {},
   "outputs": [
    {
     "data": {
      "text/plain": [
       "<bound method DataFrame.info of       Unnamed: 0  dir_name  is_spam  \\\n",
       "0              0      spam        1   \n",
       "1              1      spam        1   \n",
       "2              2      spam        1   \n",
       "3              3      spam        1   \n",
       "4              4      spam        1   \n",
       "...          ...       ...      ...   \n",
       "9348        9348  hard_ham        0   \n",
       "9349        9349  hard_ham        0   \n",
       "9350        9350  hard_ham        0   \n",
       "9351        9351  hard_ham        0   \n",
       "9352        9352  hard_ham        0   \n",
       "\n",
       "                                             from                 domain  \\\n",
       "0                             12a1mailbot1@web.de                 web.de   \n",
       "1          \"slim down\" <taylor@s3.serveimage.com>      s3.serveimage.com   \n",
       "2           \"slim down\" <sabrina@mx3.1premio.com>        mx3.1premio.com   \n",
       "3             account services <wsup@playful.com>            playful.com   \n",
       "4          \"slim n trim\" <yenene@mx2.1premio.com>        mx2.1premio.com   \n",
       "...                                           ...                    ...   \n",
       "9348  \"laurie warren\" <laurie@primal.ucdavis.edu>     primal.ucdavis.edu   \n",
       "9349    o'reilly.&.associates@dogma.slashnull.org    dogma.slashnull.org   \n",
       "9350       ederick noronha <fred@bytesforall.org>        bytesforall.org   \n",
       "9351           ailman-owner@lists.sourceforge.net  lists.sourceforge.net   \n",
       "9352           ailman-owner@lists.sourceforge.net  lists.sourceforge.net   \n",
       "\n",
       "     domain_type                                            subject  \\\n",
       "0             de                     Life Insurance - Why Pay More?   \n",
       "1            com  [ILUG] Guaranteed to lose 10-12 lbs in 30 days...   \n",
       "2            com  Guaranteed to lose 10-12 lbs in 30 days       ...   \n",
       "3            com  Re: Fw: User Name & Password to Membership To ...   \n",
       "4            com  [ILUG-Social] re: Guaranteed to lose 10-12 lbs...   \n",
       "...          ...                                                ...   \n",
       "9348         edu                        ring multiple virtual hosts   \n",
       "9349         org                           JavaServer Pages updated   \n",
       "9350         org  Attn programmers: support offered [FLOSS-Sarai...   \n",
       "9351         net  (SPAM? 08.00) lists.sourceforge.net mailing li...   \n",
       "9352         net  (SPAM? 08.00) lists.sourceforge.net mailing li...   \n",
       "\n",
       "      subj_char_cnt  subject_all_caps  attachments  urls day_of_week  \\\n",
       "0                30                 0            0     2         wed   \n",
       "1                53                 1            0     7         thu   \n",
       "2                71                 0            0     6         thu   \n",
       "3                87                 0            0     6         thu   \n",
       "4                64                 0            0     5         thu   \n",
       "...             ...               ...          ...   ...         ...   \n",
       "9348             27                 0            0     4         fri   \n",
       "9349             24                 0            0     2         tue   \n",
       "9350             58                 0            0    37         8 s   \n",
       "9351             69                 1            0     3         tue   \n",
       "9352             69                 0            0     0         tue   \n",
       "\n",
       "      full_text_all_caps  full_text_cnt  \\\n",
       "0                     23           2034   \n",
       "1                     16           2583   \n",
       "2                     12           1916   \n",
       "3                     48           4301   \n",
       "4                     16           2501   \n",
       "...                  ...            ...   \n",
       "9348                  32           3408   \n",
       "9349                  21           2672   \n",
       "9350                 151          29812   \n",
       "9351                  27           6630   \n",
       "9352                   0          20249   \n",
       "\n",
       "                                              full_text  \n",
       "0     From 12a1mailbot1@web.de Thu Aug 22 13:17:22 2...  \n",
       "1     From ilug-admin@linux.ie Thu Aug 22 13:27:39 2...  \n",
       "2     From sabrina@mx3.1premio.com Thu Aug 22 14:44:...  \n",
       "3     From wsup@playful.com Thu Aug 22 16:17:00 2002...  \n",
       "4     From social-admin@linux.ie Thu Aug 22 16:37:34...  \n",
       "...                                                 ...  \n",
       "9348  Return-Path: ler@lerami.lerctr.org Delivery-Da...  \n",
       "9349  From bounce-ora_webprog-1083425@newsletter.ore...  \n",
       "9350  Return-Path: linux-announce-recipients-owner-m...  \n",
       "9351  Return-Path:  Received: from usw-sf-list2.sour...  \n",
       "9352  mv 00001.7c7d6921e671bbe18ebb5f893cd9bb35 0000...  \n",
       "\n",
       "[9353 rows x 15 columns]>"
      ]
     },
     "execution_count": 8,
     "metadata": {},
     "output_type": "execute_result"
    }
   ],
   "source": [
    "df.info"
   ]
  },
  {
   "cell_type": "code",
   "execution_count": 9,
   "metadata": {},
   "outputs": [
    {
     "name": "stdout",
     "output_type": "stream",
     "text": [
      "Wall time: 92.6 ms\n"
     ]
    }
   ],
   "source": [
    "%%time\n",
    "if 'is_spam' in df:\n",
    "    y = df['is_spam'].values\n",
    "    del df['is_spam']\n",
    "    X = df['full_text'].str.lower()"
   ]
  },
  {
   "cell_type": "code",
   "execution_count": 10,
   "metadata": {},
   "outputs": [
    {
     "data": {
      "text/plain": [
       "0       from 12a1mailbot1@web.de thu aug 22 13:17:22 2...\n",
       "1       from ilug-admin@linux.ie thu aug 22 13:27:39 2...\n",
       "2       from sabrina@mx3.1premio.com thu aug 22 14:44:...\n",
       "3       from wsup@playful.com thu aug 22 16:17:00 2002...\n",
       "4       from social-admin@linux.ie thu aug 22 16:37:34...\n",
       "                              ...                        \n",
       "9348    return-path: ler@lerami.lerctr.org delivery-da...\n",
       "9349    from bounce-ora_webprog-1083425@newsletter.ore...\n",
       "9350    return-path: linux-announce-recipients-owner-m...\n",
       "9351    return-path:  received: from usw-sf-list2.sour...\n",
       "9352    mv 00001.7c7d6921e671bbe18ebb5f893cd9bb35 0000...\n",
       "Name: full_text, Length: 9353, dtype: object"
      ]
     },
     "execution_count": 10,
     "metadata": {},
     "output_type": "execute_result"
    }
   ],
   "source": [
    "X"
   ]
  },
  {
   "cell_type": "code",
   "execution_count": 13,
   "metadata": {},
   "outputs": [
    {
     "name": "stdout",
     "output_type": "stream",
     "text": [
      "Wall time: 0 ns\n"
     ]
    }
   ],
   "source": [
    "%%time\n",
    "from sklearn.pipeline import Pipeline\n",
    "from sklearn.naive_bayes import MultinomialNB\n",
    "from sklearn.feature_extraction.text import TfidfTransformer\n",
    "from sklearn.feature_extraction.text import CountVectorizer\n",
    "from sklearn.model_selection import train_test_split\n",
    "\n",
    "text_clf = Pipeline([\n",
    "  ('vect', CountVectorizer()),\n",
    "   ('tfidf', TfidfTransformer()),\n",
    "('clf', MultinomialNB())])"
   ]
  },
  {
   "cell_type": "code",
   "execution_count": 14,
   "metadata": {},
   "outputs": [
    {
     "name": "stdout",
     "output_type": "stream",
     "text": [
      "Wall time: 2.56 s\n"
     ]
    },
    {
     "data": {
      "text/plain": [
       "Pipeline(steps=[('vect', CountVectorizer()), ('tfidf', TfidfTransformer()),\n",
       "                ('clf', MultinomialNB())])"
      ]
     },
     "execution_count": 14,
     "metadata": {},
     "output_type": "execute_result"
    }
   ],
   "source": [
    "%%time\n",
    "X_train, X_test, y_train, y_test = train_test_split(X, y)\n",
    "text_clf.fit(X_train, y_train)"
   ]
  },
  {
   "cell_type": "code",
   "execution_count": 15,
   "metadata": {},
   "outputs": [
    {
     "name": "stderr",
     "output_type": "stream",
     "text": [
      "C:\\Users\\bodie\\Anaconda3\\lib\\site-packages\\skl2onnx\\operator_converters\\text_vectoriser.py:190: UserWarning: Converter for TfidfVectorizer will use scikit-learn regular expression by default in version 1.6.\n",
      "  UserWarning)\n",
      "C:\\Users\\bodie\\Anaconda3\\lib\\site-packages\\skl2onnx\\common\\_container.py:698: UserWarning: Unable to find operator 'Tokenizer' in domain 'com.microsoft' in ONNX, op_version is forced to 1.\n",
      "  op_type, domain))\n"
     ]
    },
    {
     "name": "stdout",
     "output_type": "stream",
     "text": [
      "Wall time: 772 ms\n"
     ]
    }
   ],
   "source": [
    "%%time\n",
    "onx = to_onnx(text_clf, X_train.values,\n",
    "              target_opset=12)"
   ]
  },
  {
   "cell_type": "code",
   "execution_count": 16,
   "metadata": {},
   "outputs": [
    {
     "name": "stdout",
     "output_type": "stream",
     "text": [
      "Wall time: 12.4 ms\n"
     ]
    }
   ],
   "source": [
    "%%time\n",
    "with open(\"text_model.onnx\", \"wb\") as f:\n",
    "    f.write(onx.SerializeToString())"
   ]
  },
  {
   "cell_type": "code",
   "execution_count": 17,
   "metadata": {},
   "outputs": [
    {
     "name": "stdout",
     "output_type": "stream",
     "text": [
      "Onnx Runtime prediction:\n",
      " [0 0 0 0 0]\n",
      "Sklearn rediction:\n",
      " [0 0 0 0 0]\n",
      "Wall time: 3.18 s\n"
     ]
    }
   ],
   "source": [
    "%%time\n",
    "from mlprodict.onnxrt import OnnxInference\n",
    "from onnxruntime import InferenceSession\n",
    "\n",
    "sess = InferenceSession(onx.SerializeToString())\n",
    "pred_ort = sess.run(None, {'X': X_test.values})[0]\n",
    "\n",
    "pred_skl = text_clf.predict(X_test)\n",
    "\n",
    "print(\"Onnx Runtime prediction:\\n\", pred_ort[:5])\n",
    "print(\"Sklearn rediction:\\n\", pred_skl[:5])"
   ]
  },
  {
   "cell_type": "code",
   "execution_count": null,
   "metadata": {},
   "outputs": [],
   "source": []
  }
 ],
 "metadata": {
  "kernelspec": {
   "display_name": "Python 3",
   "language": "python",
   "name": "python3"
  },
  "language_info": {
   "codemirror_mode": {
    "name": "ipython",
    "version": 3
   },
   "file_extension": ".py",
   "mimetype": "text/x-python",
   "name": "python",
   "nbconvert_exporter": "python",
   "pygments_lexer": "ipython3",
   "version": "3.7.4"
  }
 },
 "nbformat": 4,
 "nbformat_minor": 2
}
